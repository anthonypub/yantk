{
 "cells": [
  {
   "cell_type": "markdown",
   "metadata": {},
   "source": [
    "Here is our training data, the XOR function. Note the first column, of all ones, will be to compute biases."
   ]
  },
  {
   "cell_type": "code",
   "execution_count": 2,
   "metadata": {
    "collapsed": false
   },
   "outputs": [],
   "source": [
    "import numpy as np\n",
    "nonlin = 'sigmoid'\n",
    "X = np.array([(1, -1, -1),(1, -1, 1),(1, 1, -1),(1, 1, 1)])\n",
    "Y = np.array([(1, 0), (0, 1),(0, 1),(1, 0)])\n",
    "\n"
   ]
  },
  {
   "cell_type": "markdown",
   "metadata": {},
   "source": [
    "And here are our starting weight matrices. WHI contains the weights projecting from the input layer to the hidden layer, and WOH contains the weights projecting from the hidden layer to the output layer. Note that WHI contains a first \"phantom\" row of all zeros; this is a little hack to for the bias computation."
   ]
  },
  {
   "cell_type": "code",
   "execution_count": 3,
   "metadata": {
    "collapsed": false
   },
   "outputs": [
    {
     "name": "stdout",
     "output_type": "stream",
     "text": [
      "WHI: \n",
      "[[ 0.         0.         0.       ]\n",
      " [-0.0130107  0.001805   0.0170633]\n",
      " [ 0.0420667  0.0069242  0.0421364]\n",
      " [-0.0082391 -0.0285141  0.0302499]]\n",
      "WOH: \n",
      "[[ 0.0338  0.0046 -0.0072 -0.0052]\n",
      " [ 0.0264  0.0123  0.0093 -0.0101]]\n"
     ]
    }
   ],
   "source": [
    "WHI = np.array([(0, 0, 0),(-0.0130107, 0.0018050, 0.0170633), (0.0420667, 0.0069242, 0.0421364),(-0.0082391, -0.0285141, 0.0302499)])\n",
    "WOH = np.array([(0.0338, 0.0046, -0.0072, -0.0052),(0.0264, 0.0123, 0.0093, -0.0101)])\n",
    "print(\"WHI: \")\n",
    "print(WHI)\n",
    "print(\"WOH: \")\n",
    "print(WOH)"
   ]
  },
  {
   "cell_type": "markdown",
   "metadata": {},
   "source": [
    "Now we can start on the forward pass. In each case we will multiply the projection matrix by the input, with training instances in the columns, then applying the nonlinearity. We handle the bias by creating one extra hidden unit and resetting it to \"1\" after the activations have been computed. This requires extra computation, but in a realistically sized net it would be a tiny waste. First we'll define the nonlinearity. For now we are using the sigmoid function, but we will allow the user to specify the nonlinearity so we can use other choices later.\n",
    "\n",
    "To allow for arbitrary numbers of layers we'll pass the weight vectors in as a list, and return a list of activations (which we'll need later for backprop)."
   ]
  },
  {
   "cell_type": "markdown",
   "metadata": {},
   "source": [
    "Here's the sigmoid to produce the first hidden output"
   ]
  },
  {
   "cell_type": "code",
   "execution_count": 4,
   "metadata": {
    "collapsed": false
   },
   "outputs": [
    {
     "name": "stdout",
     "output_type": "stream",
     "text": [
      "[ array([[ 1.        ,  1.        ,  1.        ,  1.        ],\n",
      "       [ 0.49203092,  0.5005619 ,  0.49293322,  0.5014644 ],\n",
      "       [ 0.49825153,  0.51931012,  0.50171362,  0.52276607],\n",
      "       [ 0.4975063 ,  0.51262854,  0.48325549,  0.49837418]])\n",
      " array([[ 0.50747167,  0.50742393,  0.507485  ,  0.50743727],\n",
      "       [ 0.50801454,  0.50805154,  0.50806134,  0.50809833]])]\n",
      "Error: 2.00048188622\n"
     ]
    }
   ],
   "source": [
    "def sigmoid(x):\n",
    "    return 1 / (1 + np.exp(-x))\n",
    "\n",
    "def scalar_rectifier(x):\n",
    "    if x > 0:\n",
    "        return x;\n",
    "    return x * .01\n",
    "\n",
    "def rectifier(x):\n",
    "    return np.vectorize(scalar_rectifier)(x)\n",
    "    \n",
    "    \n",
    "    \n",
    "def forward(x, WEIGHTS, nl):\n",
    "    #note that we transpose x to put the training examples in columns here\n",
    "    inAct = np.transpose(x);\n",
    "    activations=[]\n",
    "    for i in range(0, len(WEIGHTS)):\n",
    "        W = WEIGHTS[i]\n",
    "        NET = np.dot(W, inAct)\n",
    "        if nl == 'sigmoid':\n",
    "            act = sigmoid(NET);\n",
    "        elif nl == 'tanh':\n",
    "            act = np.tanh(NET);\n",
    "        elif nl == 'relu':\n",
    "            act = rectifier(NET);\n",
    "        else:\n",
    "            raise Exception('unsupported nonlinearity')\n",
    "        if i != len(WEIGHTS) - 1:\n",
    "            act[0,:] = 1\n",
    "        activations = activations + [act]\n",
    "        inAct = act\n",
    "    return np.array(activations)\n",
    "\n",
    "def compute_error(A, Y):\n",
    "    last = len(A) - 1\n",
    "    err = Y - A[last]\n",
    "    sqerr = err * err;\n",
    "    return np.sum(sqerr)\n",
    "    \n",
    "\n",
    "WEIGHTS = [WHI, WOH]\n",
    "activations = forward(X, WEIGHTS, 'sigmoid')\n",
    "print(activations)\n",
    "err = compute_error(activations, np.transpose(Y))\n",
    "print(\"Error: \" + str(err))"
   ]
  },
  {
   "cell_type": "markdown",
   "metadata": {
    "collapsed": false
   },
   "source": [
    "That was the easy part. Now let's do the hard part (backprop)."
   ]
  },
  {
   "cell_type": "code",
   "execution_count": 5,
   "metadata": {
    "collapsed": false
   },
   "outputs": [
    {
     "name": "stdout",
     "output_type": "stream",
     "text": [
      "update 0\n",
      "[[  0.00000000e+00   0.00000000e+00   0.00000000e+00]\n",
      " [ -9.99574814e-05  -5.52225107e-07  -1.26935418e-07]\n",
      " [ -1.50190730e-05   5.35142840e-06   6.61731356e-07]\n",
      " [  9.08288830e-05   4.13802070e-07  -1.62174657e-07]]\n",
      "update 1\n",
      "[[-0.02235842 -0.01110612 -0.01141579 -0.01113385]\n",
      " [-0.02416303 -0.01200326 -0.01233386 -0.01203035]]\n"
     ]
    }
   ],
   "source": [
    "def sigderiv(x):\n",
    "    return (x * (1-x))\n",
    "def tanhderiv(x):\n",
    "    return(1 - (x*x))\n",
    "def recderiv_scalar(x):\n",
    "    if x > 0:\n",
    "        return 1\n",
    "    return 0.01\n",
    "\n",
    "def recderiv(x):\n",
    "    return np.vectorize(recderiv_scalar)(x)\n",
    "    \n",
    "    \n",
    "def nlderiv(x, nl):\n",
    "    if nl == 'sigmoid':\n",
    "        return sigderiv(x)\n",
    "    elif nl == 'tanh':\n",
    "        return tanhderiv(x)\n",
    "    elif nl == 'relu':\n",
    "        return recderiv(x)\n",
    "    else:\n",
    "        raise Exception('unsupported nonlin')\n",
    "#A = activatitions from all layers\n",
    "#Y = targets\n",
    "#nl = nonlinearity type\n",
    "#returns a list of update weights\n",
    "def backprop(X, A, Y, W, nl, rate):\n",
    "    #First compute the gradients\n",
    "    #This is the derivative of the nonlinearity function.\n",
    "    updates = []\n",
    "    nlgrad = np.ones((1))\n",
    "    out_idx = len(A) - 1\n",
    "    gradients = []\n",
    "    nlgrad = nlderiv(A[out_idx], nl)\n",
    "    delta_k = nlgrad * (np.transpose(Y) - A[out_idx])\n",
    "    gradients = [delta_k]\n",
    "    delta_prev = delta_k\n",
    "    for i in range(out_idx - 1, -1, -1):\n",
    "        #print(\"iter \" + str(i))\n",
    "        #Compute the weighted gradient from prev layer\n",
    "        wg = np.transpose(W[i + 1]).dot(delta_prev)\n",
    "        deriv = nlderiv(A[i], nl)\n",
    "        delta_new = deriv * wg\n",
    "        delta_prev = delta_new\n",
    "        gradients = [delta_new] + gradients\n",
    "    #Now compute the updates\n",
    "    #for g in gradients:\n",
    "        #print(\"gradient: \")\n",
    "        #print(g);\n",
    "    for i in range(0, out_idx + 1):\n",
    "        if i > 0:\n",
    "            upcurr = gradients[i].dot(np.transpose(A[i - 1]))\n",
    "        else:\n",
    "            upcurr = gradients[i].dot(X) \n",
    "       \n",
    "        upcurr = upcurr * rate\n",
    "        updates = updates + [upcurr]\n",
    "    return updates\n",
    "    \n",
    "up = backprop(X, activations, Y, WEIGHTS, 'sigmoid', 3.0)\n",
    "for i in range(0, len(up)):\n",
    "    print(\"update \" + str(i))\n",
    "    print(up[i])"
   ]
  },
  {
   "cell_type": "code",
   "execution_count": 13,
   "metadata": {
    "collapsed": false
   },
   "outputs": [
    {
     "name": "stdout",
     "output_type": "stream",
     "text": [
      "it 0\n",
      "[[ 0.71233037  0.71245816  0.71229407  0.7124211 ]\n",
      " [ 0.71228006  0.71243204  0.71224265  0.71239386]]\n",
      "it 1\n",
      "[[ 0.28886325  0.28866445  0.28891584  0.2887181 ]\n",
      " [ 0.28882811  0.28865254  0.28887943  0.28870491]]\n",
      "it 2\n",
      "[[ 0.71052454  0.71063078  0.71049328  0.71059888]\n",
      " [ 0.71048253  0.71061065  0.7104499   0.71057737]]\n",
      "it 3\n",
      "[[ 0.29041827  0.29024893  0.2904645   0.29029608]\n",
      " [ 0.29038881  0.29024057  0.29043357  0.29028622]]\n",
      "it 4\n",
      "[[ 0.70908838  0.70917847  0.70906098  0.70915053]\n",
      " [ 0.70905247  0.70916256  0.70902352  0.70913304]]\n",
      "it 5\n",
      "[[ 0.29167597  0.29152931  0.29171724  0.29157137]\n",
      " [ 0.29165073  0.29152341  0.29169035  0.2915638 ]]\n",
      "it 6\n",
      "[[ 0.70791857  0.70799618  0.70789422  0.70797137]\n",
      " [ 0.70788734  0.70798337  0.7078613   0.70795684]]\n",
      "it 7\n",
      "[[ 0.29271411  0.29258535  0.29275137  0.29262332]\n",
      " [ 0.29269209  0.29258121  0.29272759  0.29261738]]\n",
      "it 8\n",
      "[[ 0.70694714  0.70701488  0.70692527  0.7069926 ]\n",
      " [ 0.7069196   0.70700443  0.70689593  0.70698031]]\n",
      "it 9\n",
      "[[ 0.2935855   0.29347119  0.29361948  0.2935058 ]\n",
      " [ 0.29356604  0.29346834  0.29359815  0.29350105]]\n"
     ]
    },
    {
     "data": {
      "image/png": "[encoded data removed]",
      "text/plain": [
       "<matplotlib.figure.Figure at 0x29affd9bfd0>"
      ]
     },
     "metadata": {},
     "output_type": "display_data"
    }
   ],
   "source": [
    "%matplotlib inline\n",
    "import matplotlib.pyplot as plt\n",
    "iterations = 10\n",
    "errors = []\n",
    "for i in range(0, iterations):\n",
    "    act = forward(X, WEIGHTS, 'sigmoid')\n",
    "    if i % 1 == 0:\n",
    "        print (\"it \" + str(i))\n",
    "        print(act[-1])\n",
    "    err = compute_error(act, np.transpose(Y))\n",
    "    #print (\"err at iter \" + str(i) + \": \" + str(err))\n",
    "    errors = errors + [err]\n",
    "    updates = backprop(X, act, Y, WEIGHTS, 'sigmoid', 10)\n",
    "    print \n",
    "    for j in range(0, len(WEIGHTS)):\n",
    "        WEIGHTS[j] = WEIGHTS[j] + updates[j]\n",
    "\n",
    "#print (\"errors: \" + str(errors))\n",
    "plt.plot(errors)\n",
    "\n",
    "plt.axis([0, len(errors), 0, 5])\n",
    "plt.ylabel('error')\n",
    "plt.show()"
   ]
  },
  {
   "cell_type": "markdown",
   "metadata": {},
   "source": [
    "OK, so this solves our toy example nicely. What about some real data? Let's try mnist."
   ]
  },
  {
   "cell_type": "code",
   "execution_count": 14,
   "metadata": {
    "collapsed": false
   },
   "outputs": [
    {
     "name": "stdout",
     "output_type": "stream",
     "text": [
      "loading...\n"
     ]
    }
   ],
   "source": [
    "print('loading...')\n",
    "images = np.loadtxt('c:\\\\users\\\\anthaue\\\\onedrive\\\\documents\\\\school\\\\mnist\\\\t10k-images-idx3-ubyte.mat')\n",
    "labels = np.loadtxt('c:\\\\users\\\\anthaue\\\\onedrive\\\\documents\\\\school\\\\mnist\\\\t10k-labels-idx1-ubyte.mat')"
   ]
  },
  {
   "cell_type": "code",
   "execution_count": 16,
   "metadata": {
    "collapsed": false
   },
   "outputs": [
    {
     "data": {
      "image/png": "[encoded data removed]",
      "text/plain": [
       "<matplotlib.figure.Figure at 0x29a80353048>"
      ]
     },
     "metadata": {},
     "output_type": "display_data"
    },
    {
     "name": "stdout",
     "output_type": "stream",
     "text": [
      "error: 70000.0\n",
      "testacc: 0.11399999999999999\n"
     ]
    },
    {
     "ename": "KeyboardInterrupt",
     "evalue": "",
     "output_type": "error",
     "traceback": [
      "\u001b[1;31m---------------------------------------------------------------------------\u001b[0m",
      "\u001b[1;31mKeyboardInterrupt\u001b[0m                         Traceback (most recent call last)",
      "\u001b[1;32m<ipython-input-16-b7ef60a1a35a>\u001b[0m in \u001b[0;36m<module>\u001b[1;34m()\u001b[0m\n\u001b[0;32m    101\u001b[0m         \u001b[0mact\u001b[0m \u001b[1;33m=\u001b[0m \u001b[0mforward\u001b[0m\u001b[1;33m(\u001b[0m\u001b[0mcurrX\u001b[0m\u001b[1;33m,\u001b[0m \u001b[0mWEIGHTS\u001b[0m\u001b[1;33m,\u001b[0m \u001b[0mnonlinfunc\u001b[0m\u001b[1;33m)\u001b[0m\u001b[1;33m\u001b[0m\u001b[0m\n\u001b[0;32m    102\u001b[0m         \u001b[0merr\u001b[0m \u001b[1;33m+=\u001b[0m \u001b[0mcompute_error\u001b[0m\u001b[1;33m(\u001b[0m\u001b[0mact\u001b[0m\u001b[1;33m,\u001b[0m \u001b[0mnp\u001b[0m\u001b[1;33m.\u001b[0m\u001b[0mtranspose\u001b[0m\u001b[1;33m(\u001b[0m\u001b[0mcurrY\u001b[0m\u001b[1;33m)\u001b[0m\u001b[1;33m)\u001b[0m\u001b[1;33m\u001b[0m\u001b[0m\n\u001b[1;32m--> 103\u001b[1;33m         \u001b[0mupdates\u001b[0m \u001b[1;33m=\u001b[0m \u001b[0mbackprop\u001b[0m\u001b[1;33m(\u001b[0m\u001b[0mcurrX\u001b[0m\u001b[1;33m,\u001b[0m \u001b[0mact\u001b[0m\u001b[1;33m,\u001b[0m \u001b[0mcurrY\u001b[0m\u001b[1;33m,\u001b[0m \u001b[0mWEIGHTS\u001b[0m\u001b[1;33m,\u001b[0m \u001b[0mnonlinfunc\u001b[0m\u001b[1;33m,\u001b[0m \u001b[1;36m5.0\u001b[0m\u001b[1;33m)\u001b[0m\u001b[1;33m\u001b[0m\u001b[0m\n\u001b[0m\u001b[0;32m    104\u001b[0m         \u001b[1;32mfor\u001b[0m \u001b[0mj\u001b[0m \u001b[1;32min\u001b[0m \u001b[0mrange\u001b[0m\u001b[1;33m(\u001b[0m\u001b[1;36m0\u001b[0m\u001b[1;33m,\u001b[0m \u001b[0mlen\u001b[0m\u001b[1;33m(\u001b[0m\u001b[0mWEIGHTS\u001b[0m\u001b[1;33m)\u001b[0m\u001b[1;33m)\u001b[0m\u001b[1;33m:\u001b[0m\u001b[1;33m\u001b[0m\u001b[0m\n\u001b[0;32m    105\u001b[0m             \u001b[0mWEIGHTS\u001b[0m\u001b[1;33m[\u001b[0m\u001b[0mj\u001b[0m\u001b[1;33m]\u001b[0m \u001b[1;33m=\u001b[0m \u001b[0mWEIGHTS\u001b[0m\u001b[1;33m[\u001b[0m\u001b[0mj\u001b[0m\u001b[1;33m]\u001b[0m \u001b[1;33m+\u001b[0m \u001b[0mupdates\u001b[0m\u001b[1;33m[\u001b[0m\u001b[0mj\u001b[0m\u001b[1;33m]\u001b[0m\u001b[1;33m\u001b[0m\u001b[0m\n",
      "\u001b[1;32m<ipython-input-5-46008cd27215>\u001b[0m in \u001b[0;36mbackprop\u001b[1;34m(X, A, Y, W, nl, rate)\u001b[0m\n\u001b[0;32m     50\u001b[0m     \u001b[1;32mfor\u001b[0m \u001b[0mi\u001b[0m \u001b[1;32min\u001b[0m \u001b[0mrange\u001b[0m\u001b[1;33m(\u001b[0m\u001b[1;36m0\u001b[0m\u001b[1;33m,\u001b[0m \u001b[0mout_idx\u001b[0m \u001b[1;33m+\u001b[0m \u001b[1;36m1\u001b[0m\u001b[1;33m)\u001b[0m\u001b[1;33m:\u001b[0m\u001b[1;33m\u001b[0m\u001b[0m\n\u001b[0;32m     51\u001b[0m         \u001b[1;32mif\u001b[0m \u001b[0mi\u001b[0m \u001b[1;33m>\u001b[0m \u001b[1;36m0\u001b[0m\u001b[1;33m:\u001b[0m\u001b[1;33m\u001b[0m\u001b[0m\n\u001b[1;32m---> 52\u001b[1;33m             \u001b[0mupcurr\u001b[0m \u001b[1;33m=\u001b[0m \u001b[0mgradients\u001b[0m\u001b[1;33m[\u001b[0m\u001b[0mi\u001b[0m\u001b[1;33m]\u001b[0m\u001b[1;33m.\u001b[0m\u001b[0mdot\u001b[0m\u001b[1;33m(\u001b[0m\u001b[0mnp\u001b[0m\u001b[1;33m.\u001b[0m\u001b[0mtranspose\u001b[0m\u001b[1;33m(\u001b[0m\u001b[0mA\u001b[0m\u001b[1;33m[\u001b[0m\u001b[0mi\u001b[0m \u001b[1;33m-\u001b[0m \u001b[1;36m1\u001b[0m\u001b[1;33m]\u001b[0m\u001b[1;33m)\u001b[0m\u001b[1;33m)\u001b[0m\u001b[1;33m\u001b[0m\u001b[0m\n\u001b[0m\u001b[0;32m     53\u001b[0m         \u001b[1;32melse\u001b[0m\u001b[1;33m:\u001b[0m\u001b[1;33m\u001b[0m\u001b[0m\n\u001b[0;32m     54\u001b[0m             \u001b[0mupcurr\u001b[0m \u001b[1;33m=\u001b[0m \u001b[0mgradients\u001b[0m\u001b[1;33m[\u001b[0m\u001b[0mi\u001b[0m\u001b[1;33m]\u001b[0m\u001b[1;33m.\u001b[0m\u001b[0mdot\u001b[0m\u001b[1;33m(\u001b[0m\u001b[0mX\u001b[0m\u001b[1;33m)\u001b[0m\u001b[1;33m\u001b[0m\u001b[0m\n",
      "\u001b[1;31mKeyboardInterrupt\u001b[0m: "
     ]
    },
    {
     "data": {
      "image/png": "[encoded data removed]",
      "text/plain": [
       "<matplotlib.figure.Figure at 0x29a80353048>"
      ]
     },
     "metadata": {},
     "output_type": "display_data"
    }
   ],
   "source": [
    "#The mnist labels are a single dimension, but we'd rather\n",
    "#have them be a 10-dimensional array with 1 in the target dim\n",
    "#and zeros elsewhere else.\n",
    "import math\n",
    "def vectorize_targets(x):\n",
    "    ret = np.ones(([len(x), np.max(x) + 1]))\n",
    "    #Try setting to -1 instead of zero for tanh learner.\n",
    "    ret = ret * -1\n",
    "    print (ret)\n",
    "    for i in range(0, len(x)):\n",
    "        ret[i][x[i]] = 1\n",
    "    return ret\n",
    "#Need the bias ones on the training examples\n",
    "def prepend_ones_row(x):\n",
    "    return np.hstack((np.ones([len(x), 1]), x))\n",
    "    \n",
    "#We assume symmetric around zero.\n",
    "def init_random_matrix(rows, cols, magnitude):\n",
    "    ret = np.random.rand(rows, cols)\n",
    "    ret = ret - 0.5\n",
    "    ret = ret * (2 * magnitude)\n",
    "    return ret\n",
    "    \n",
    "def init_weights(X, Y, hiddenlen):\n",
    "    #magnitude = 0.05\n",
    "    (xrows, xcols) = X.shape\n",
    "    (yrows, ycols) = Y.shape\n",
    "    mag1 = 1 / math.sqrt(xcols)\n",
    "    x2hidden = init_random_matrix(hiddenlen, xcols, mag1)\n",
    "    mag2 = 1 / math.sqrt(hiddenlen)\n",
    "    hidden1hidden2 = init_random_matrix(hiddenlen, hiddenlen, mag2)\n",
    "    #hidden2hidden3 = init_random_matrix(hiddenlen, hiddenlen, magnitude)\n",
    "    #hidden3hidden4 = init_random_matrix(hiddenlen, hiddenlen, magnitude)\n",
    "    hidden2out = init_random_matrix(ycols, hiddenlen, mag2)\n",
    "    #return[x2hidden, hidden1hidden2, hidden2hidden3, hidden3hidden4, hidden4out]\n",
    "    return[x2hidden, hidden1hidden2, hidden2out]\n",
    "\n",
    "def normalize_inputs(normalizeMe, minscaled, maxscaled):\n",
    "    minunscaled = np.min(normalizeMe)\n",
    "    maxunscaled = np.max(normalizeMe)\n",
    "    ratio = (maxunscaled - minunscaled) / (maxscaled - minscaled)\n",
    "    print('minunscaled ' + str(minunscaled) + ', maxunscaled ' + str(maxunscaled) + ', ratio ' + str(ratio))\n",
    "    return minscaled + ((normalizeMe - minunscaled) / ratio)\n",
    "\n",
    "def split(samples, labels, trainpercent):\n",
    "    (rows, cols) = samples.shape\n",
    "    allRows = np.arange(rows)\n",
    "    np.random.shuffle(allRows)\n",
    "    cutoffRow = rows * trainpercent\n",
    "    trainIndices=allRows[0:cutoffRow]\n",
    "    testIndices=allRows[cutoffRow:]\n",
    "    trainSamples = samples[trainIndices]\n",
    "    trainLabels = labels[trainIndices]\n",
    "    testSamples = samples[testIndices]\n",
    "    testLabels = labels[testIndices]\n",
    "    return(trainSamples, trainLabels, testSamples, testLabels)\n",
    "    \n",
    "def accuracy(output, labels):\n",
    "    predmax = np.argmax(output, 1)\n",
    "    labmax = np.argmax(labels, 1)\n",
    "    diff = predmax - labmax\n",
    "    errors = np.count_nonzero(diff)\n",
    "    return 1.0 - (errors / len(output))\n",
    "    \n",
    "\n",
    "print('vectorizing...')\n",
    "veclabels = vectorize_targets(labels)\n",
    "print(veclabels)\n",
    "print('normalizing')\n",
    "normalized = normalize_inputs(images, -1, 1)\n",
    "print('biasing...')\n",
    "biased = prepend_ones_row(normalized)\n",
    "print(biased)\n",
    "\n",
    "(trainSamples, trainLabels, testSamples, testLabels) = split(biased, veclabels, 0.7)\n",
    "\n",
    "print('initializing weights...')\n",
    "WEIGHTS = init_weights(trainSamples, trainLabels, 200)\n",
    "\n",
    "plt.plot([], [])\n",
    "plt.show()\n",
    "from IPython import display\n",
    "\n",
    "iterations = 1000\n",
    "errors = []\n",
    "trainAccs = []\n",
    "testAccs = []\n",
    "mb_size = 10\n",
    "nonlinfunc = 'sigmoid'\n",
    "for i in range(0, iterations):\n",
    "    err=0\n",
    "    #Shuffle training cases.\n",
    "    order = np.arange(0, len(trainSamples))\n",
    "    np.random.shuffle(order)\n",
    "    trainSamples = trainSamples[order]\n",
    "    trainLabels = trainLabels[order]\n",
    "    for mbstart in range(0, len(trainSamples), mb_size):\n",
    "        mbend = min(len(trainSamples), mbstart + mb_size)\n",
    "        currX = trainSamples[mbstart:mbend,:]\n",
    "        currY = trainLabels[mbstart:mbend,:]\n",
    "        act = forward(currX, WEIGHTS, nonlinfunc)\n",
    "        err += compute_error(act, np.transpose(currY))\n",
    "        updates = backprop(currX, act, currY, WEIGHTS, nonlinfunc, 5.0)\n",
    "        for j in range(0, len(WEIGHTS)):\n",
    "            WEIGHTS[j] = WEIGHTS[j] + updates[j]\n",
    "    errors = errors + [err]\n",
    "    \n",
    "    trainOut = forward(trainSamples, WEIGHTS, nonlinfunc)\n",
    "    testOut = forward(testSamples, WEIGHTS, nonlinfunc)\n",
    "    trainAcc = accuracy(trainOut[-1].transpose(), trainLabels)\n",
    "    testAcc = accuracy(testOut[-1].transpose(), testLabels)\n",
    "    trainAccs = trainAccs + [trainAcc]\n",
    "    testAccs = testAccs + [testAcc]\n",
    "    \n",
    "\n",
    "#plt.plot(errors)\n",
    "    rng = np.arange(len(trainAccs))\n",
    "    #hl.set_xdata(rng)\n",
    "    #hl.set_ydata(trainAccs)\n",
    "    #hl.draw();\n",
    "    plt.clf()\n",
    "    plt.plot(rng, trainAccs, label='Train')\n",
    "    plt.plot(rng, testAccs, label='Test')\n",
    "    plt.legend(loc=2)\n",
    "    plt.axis([0, len(trainAccs), 0, 1.0])\n",
    "    plt.ylabel('training error')\n",
    "    display.clear_output(wait=True)\n",
    "    display.display(plt.gcf())\n",
    "    #plt.show()\n",
    "    print('error: ' + str(err))\n",
    "    print('testacc: ' + str(testAcc))\n",
    "\n"
   ]
  },
  {
   "cell_type": "code",
   "execution_count": null,
   "metadata": {
    "collapsed": true
   },
   "outputs": [],
   "source": []
  },
  {
   "cell_type": "code",
   "execution_count": null,
   "metadata": {
    "collapsed": true
   },
   "outputs": [],
   "source": []
  },
  {
   "cell_type": "code",
   "execution_count": null,
   "metadata": {
    "collapsed": true
   },
   "outputs": [],
   "source": []
  },
  {
   "cell_type": "code",
   "execution_count": null,
   "metadata": {
    "collapsed": true
   },
   "outputs": [],
   "source": []
  }
 ],
 "metadata": {
  "kernelspec": {
   "display_name": "Python 3",
   "language": "python",
   "name": "python3"
  },
  "language_info": {
   "codemirror_mode": {
    "name": "ipython",
    "version": 3
   },
   "file_extension": ".py",
   "mimetype": "text/x-python",
   "name": "python",
   "nbconvert_exporter": "python",
   "pygments_lexer": "ipython3",
   "version": "3.5.2"
  }
 },
 "nbformat": 4,
 "nbformat_minor": 0
}
